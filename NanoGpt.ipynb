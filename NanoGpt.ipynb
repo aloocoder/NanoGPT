{
  "nbformat": 4,
  "nbformat_minor": 0,
  "metadata": {
    "colab": {
      "provenance": []
    },
    "kernelspec": {
      "name": "python3",
      "display_name": "Python 3"
    },
    "language_info": {
      "name": "python"
    }
  },
  "cells": [
    {
      "cell_type": "code",
      "execution_count": 1,
      "metadata": {
        "colab": {
          "base_uri": "https://localhost:8080/"
        },
        "id": "w8YlibnWKAGK",
        "outputId": "5c77b863-bdc9-4b9b-c0c7-57806656a6e3"
      },
      "outputs": [
        {
          "output_type": "stream",
          "name": "stdout",
          "text": [
            "--2025-05-19 10:40:28--  https://raw.githubusercontent.com/karpathy/char-rnn/master/data/tinyshakespeare/input.txt\n",
            "Resolving raw.githubusercontent.com (raw.githubusercontent.com)... 185.199.110.133, 185.199.111.133, 185.199.108.133, ...\n",
            "Connecting to raw.githubusercontent.com (raw.githubusercontent.com)|185.199.110.133|:443... connected.\n",
            "HTTP request sent, awaiting response... 200 OK\n",
            "Length: 1115394 (1.1M) [text/plain]\n",
            "Saving to: ‘input.txt’\n",
            "\n",
            "input.txt           100%[===================>]   1.06M  4.89MB/s    in 0.2s    \n",
            "\n",
            "2025-05-19 10:40:28 (4.89 MB/s) - ‘input.txt’ saved [1115394/1115394]\n",
            "\n"
          ]
        }
      ],
      "source": [
        "!wget https://raw.githubusercontent.com/karpathy/char-rnn/master/data/tinyshakespeare/input.txt"
      ]
    },
    {
      "cell_type": "code",
      "source": [
        "with open('input.txt', 'r', encoding = 'utf-8') as f:\n",
        "  text = f.read()"
      ],
      "metadata": {
        "id": "zde_gmNlKSg9"
      },
      "execution_count": 2,
      "outputs": []
    },
    {
      "cell_type": "code",
      "source": [
        "print(f\"length of text in characters is: {len(text)}\")"
      ],
      "metadata": {
        "colab": {
          "base_uri": "https://localhost:8080/"
        },
        "id": "s2xRalwaKj8a",
        "outputId": "e44d9bdb-d13f-424b-f75e-c4b5188c391b"
      },
      "execution_count": 3,
      "outputs": [
        {
          "output_type": "stream",
          "name": "stdout",
          "text": [
            "length of text in characters is: 1115394\n"
          ]
        }
      ]
    },
    {
      "cell_type": "code",
      "source": [
        "print(text[:1000])"
      ],
      "metadata": {
        "colab": {
          "base_uri": "https://localhost:8080/"
        },
        "id": "12l1KJlAKvCU",
        "outputId": "49e8ec4e-97df-4d1c-e0be-999c482137d1"
      },
      "execution_count": 4,
      "outputs": [
        {
          "output_type": "stream",
          "name": "stdout",
          "text": [
            "First Citizen:\n",
            "Before we proceed any further, hear me speak.\n",
            "\n",
            "All:\n",
            "Speak, speak.\n",
            "\n",
            "First Citizen:\n",
            "You are all resolved rather to die than to famish?\n",
            "\n",
            "All:\n",
            "Resolved. resolved.\n",
            "\n",
            "First Citizen:\n",
            "First, you know Caius Marcius is chief enemy to the people.\n",
            "\n",
            "All:\n",
            "We know't, we know't.\n",
            "\n",
            "First Citizen:\n",
            "Let us kill him, and we'll have corn at our own price.\n",
            "Is't a verdict?\n",
            "\n",
            "All:\n",
            "No more talking on't; let it be done: away, away!\n",
            "\n",
            "Second Citizen:\n",
            "One word, good citizens.\n",
            "\n",
            "First Citizen:\n",
            "We are accounted poor citizens, the patricians good.\n",
            "What authority surfeits on would relieve us: if they\n",
            "would yield us but the superfluity, while it were\n",
            "wholesome, we might guess they relieved us humanely;\n",
            "but they think we are too dear: the leanness that\n",
            "afflicts us, the object of our misery, is as an\n",
            "inventory to particularise their abundance; our\n",
            "sufferance is a gain to them Let us revenge this with\n",
            "our pikes, ere we become rakes: for the gods know I\n",
            "speak this in hunger for bread, not in thirst for revenge.\n",
            "\n",
            "\n"
          ]
        }
      ]
    },
    {
      "cell_type": "code",
      "source": [
        "chars = sorted(list(set(text)))\n",
        "vocab_size = len(chars)\n",
        "print(''.join(chars))\n",
        "print(vocab_size)"
      ],
      "metadata": {
        "colab": {
          "base_uri": "https://localhost:8080/"
        },
        "id": "U_WuiM5SKzSY",
        "outputId": "8f9c85a7-8382-44db-b0fa-a6eabe0f9ae4"
      },
      "execution_count": 5,
      "outputs": [
        {
          "output_type": "stream",
          "name": "stdout",
          "text": [
            "\n",
            " !$&',-.3:;?ABCDEFGHIJKLMNOPQRSTUVWXYZabcdefghijklmnopqrstuvwxyz\n",
            "65\n"
          ]
        }
      ]
    },
    {
      "cell_type": "code",
      "source": [
        "##craeting the encoders and decoders\n",
        "stoi = {ch:i for i,ch in enumerate(chars) }\n",
        "itos = {i:ch for i,ch in enumerate(chars) }\n",
        "encode = lambda s: [stoi[c] for c in s]\n",
        "decode = lambda l: ''.join([itos[i] for i in l])"
      ],
      "metadata": {
        "id": "xEiNq7g5LaKE"
      },
      "execution_count": 6,
      "outputs": []
    },
    {
      "cell_type": "code",
      "source": [
        "print(encode(\"s&ck my d&ck\"))\n",
        "print(decode(encode(\"s&ck my d&ck\")))"
      ],
      "metadata": {
        "colab": {
          "base_uri": "https://localhost:8080/"
        },
        "id": "z1dPkcV_O5ZY",
        "outputId": "4cc6a8bb-581f-477f-d097-dd330fd0e0f8"
      },
      "execution_count": 7,
      "outputs": [
        {
          "output_type": "stream",
          "name": "stdout",
          "text": [
            "[57, 4, 41, 49, 1, 51, 63, 1, 42, 4, 41, 49]\n",
            "s&ck my d&ck\n"
          ]
        }
      ]
    },
    {
      "cell_type": "code",
      "source": [
        "import torch\n",
        "data = torch.tensor(encode(text), dtype = torch.long)\n",
        "print(data.shape, data.dtype)\n",
        "print(data[:100])"
      ],
      "metadata": {
        "colab": {
          "base_uri": "https://localhost:8080/"
        },
        "id": "MknRHQeAPFIG",
        "outputId": "f42ff2d6-cfa5-47aa-dfab-04721e9765b3"
      },
      "execution_count": 8,
      "outputs": [
        {
          "output_type": "stream",
          "name": "stdout",
          "text": [
            "torch.Size([1115394]) torch.int64\n",
            "tensor([18, 47, 56, 57, 58,  1, 15, 47, 58, 47, 64, 43, 52, 10,  0, 14, 43, 44,\n",
            "        53, 56, 43,  1, 61, 43,  1, 54, 56, 53, 41, 43, 43, 42,  1, 39, 52, 63,\n",
            "         1, 44, 59, 56, 58, 46, 43, 56,  6,  1, 46, 43, 39, 56,  1, 51, 43,  1,\n",
            "        57, 54, 43, 39, 49,  8,  0,  0, 13, 50, 50, 10,  0, 31, 54, 43, 39, 49,\n",
            "         6,  1, 57, 54, 43, 39, 49,  8,  0,  0, 18, 47, 56, 57, 58,  1, 15, 47,\n",
            "        58, 47, 64, 43, 52, 10,  0, 37, 53, 59])\n"
          ]
        }
      ]
    },
    {
      "cell_type": "code",
      "source": [
        "##split into train and test\n",
        "n = int(0.85*len(data))\n",
        "train_data = data[:n]\n",
        "test_data = data[n:]"
      ],
      "metadata": {
        "id": "S6IJvfCGUHN8"
      },
      "execution_count": 9,
      "outputs": []
    },
    {
      "cell_type": "code",
      "source": [
        "block_size = 8\n",
        "train_data[:block_size + 1]"
      ],
      "metadata": {
        "colab": {
          "base_uri": "https://localhost:8080/"
        },
        "id": "XvhpXc5aVIFL",
        "outputId": "7229b2a3-6201-44e0-e29d-4a534f35d08c"
      },
      "execution_count": 10,
      "outputs": [
        {
          "output_type": "execute_result",
          "data": {
            "text/plain": [
              "tensor([18, 47, 56, 57, 58,  1, 15, 47, 58])"
            ]
          },
          "metadata": {},
          "execution_count": 10
        }
      ]
    },
    {
      "cell_type": "code",
      "source": [
        "x = train_data[:block_size]\n",
        "y = train_data[1:block_size + 1]\n",
        "for t in range(block_size):\n",
        "  context = x[:t+1]\n",
        "  target = y[t]\n",
        "  print(f\"when input is {context} target is: {target}\")"
      ],
      "metadata": {
        "colab": {
          "base_uri": "https://localhost:8080/"
        },
        "id": "Jej9u5NjXIJR",
        "outputId": "c00ac565-4423-46a2-eff8-6a8f8ec6a363"
      },
      "execution_count": 11,
      "outputs": [
        {
          "output_type": "stream",
          "name": "stdout",
          "text": [
            "when input is tensor([18]) target is: 47\n",
            "when input is tensor([18, 47]) target is: 56\n",
            "when input is tensor([18, 47, 56]) target is: 57\n",
            "when input is tensor([18, 47, 56, 57]) target is: 58\n",
            "when input is tensor([18, 47, 56, 57, 58]) target is: 1\n",
            "when input is tensor([18, 47, 56, 57, 58,  1]) target is: 15\n",
            "when input is tensor([18, 47, 56, 57, 58,  1, 15]) target is: 47\n",
            "when input is tensor([18, 47, 56, 57, 58,  1, 15, 47]) target is: 58\n"
          ]
        }
      ]
    },
    {
      "cell_type": "code",
      "source": [
        "torch.manual_seed(1337)\n",
        "batch_size = 4\n",
        "block_size = 8\n",
        "\n",
        "\n",
        "def get_batch(split):\n",
        "  data = train_data if split == 'train' else test_data\n",
        "  ix = torch.randint(len(data) - block_size, (batch_size,))\n",
        "  x = torch.stack([data[i:i+block_size] for i in ix])\n",
        "  y = torch.stack([data[i+1:i+block_size+1] for i in ix])\n",
        "  return x, y\n",
        "\n",
        "xb, yb = get_batch('train')\n",
        "print('inputs:')\n",
        "print(xb.shape)\n",
        "print(xb)\n",
        "print('targets:')\n",
        "print(yb.shape)\n",
        "print(yb)\n",
        "\n",
        "print('----')\n",
        "\n",
        "for b in range(batch_size):\n",
        "  for t in range(block_size):\n",
        "    context = xb[b,:t+1]\n",
        "    target = yb[b,t]\n",
        "    print(f\"when input is {context} target is: {target}\")"
      ],
      "metadata": {
        "colab": {
          "base_uri": "https://localhost:8080/"
        },
        "id": "2YXMWks4X8Vj",
        "outputId": "5b98c8e5-8aa5-41ac-e9ce-c84fa5e081c8"
      },
      "execution_count": 12,
      "outputs": [
        {
          "output_type": "stream",
          "name": "stdout",
          "text": [
            "inputs:\n",
            "torch.Size([4, 8])\n",
            "tensor([[53, 61, 57, 10,  0, 20, 43,  1],\n",
            "        [39, 41, 43, 42,  1, 58, 46, 43],\n",
            "        [52, 41, 43,  8,  0,  0, 24, 17],\n",
            "        [26, 33, 31, 10,  0, 25, 53, 57]])\n",
            "targets:\n",
            "torch.Size([4, 8])\n",
            "tensor([[61, 57, 10,  0, 20, 43,  1, 58],\n",
            "        [41, 43, 42,  1, 58, 46, 43,  1],\n",
            "        [41, 43,  8,  0,  0, 24, 17, 27],\n",
            "        [33, 31, 10,  0, 25, 53, 57, 58]])\n",
            "----\n",
            "when input is tensor([53]) target is: 61\n",
            "when input is tensor([53, 61]) target is: 57\n",
            "when input is tensor([53, 61, 57]) target is: 10\n",
            "when input is tensor([53, 61, 57, 10]) target is: 0\n",
            "when input is tensor([53, 61, 57, 10,  0]) target is: 20\n",
            "when input is tensor([53, 61, 57, 10,  0, 20]) target is: 43\n",
            "when input is tensor([53, 61, 57, 10,  0, 20, 43]) target is: 1\n",
            "when input is tensor([53, 61, 57, 10,  0, 20, 43,  1]) target is: 58\n",
            "when input is tensor([39]) target is: 41\n",
            "when input is tensor([39, 41]) target is: 43\n",
            "when input is tensor([39, 41, 43]) target is: 42\n",
            "when input is tensor([39, 41, 43, 42]) target is: 1\n",
            "when input is tensor([39, 41, 43, 42,  1]) target is: 58\n",
            "when input is tensor([39, 41, 43, 42,  1, 58]) target is: 46\n",
            "when input is tensor([39, 41, 43, 42,  1, 58, 46]) target is: 43\n",
            "when input is tensor([39, 41, 43, 42,  1, 58, 46, 43]) target is: 1\n",
            "when input is tensor([52]) target is: 41\n",
            "when input is tensor([52, 41]) target is: 43\n",
            "when input is tensor([52, 41, 43]) target is: 8\n",
            "when input is tensor([52, 41, 43,  8]) target is: 0\n",
            "when input is tensor([52, 41, 43,  8,  0]) target is: 0\n",
            "when input is tensor([52, 41, 43,  8,  0,  0]) target is: 24\n",
            "when input is tensor([52, 41, 43,  8,  0,  0, 24]) target is: 17\n",
            "when input is tensor([52, 41, 43,  8,  0,  0, 24, 17]) target is: 27\n",
            "when input is tensor([26]) target is: 33\n",
            "when input is tensor([26, 33]) target is: 31\n",
            "when input is tensor([26, 33, 31]) target is: 10\n",
            "when input is tensor([26, 33, 31, 10]) target is: 0\n",
            "when input is tensor([26, 33, 31, 10,  0]) target is: 25\n",
            "when input is tensor([26, 33, 31, 10,  0, 25]) target is: 53\n",
            "when input is tensor([26, 33, 31, 10,  0, 25, 53]) target is: 57\n",
            "when input is tensor([26, 33, 31, 10,  0, 25, 53, 57]) target is: 58\n"
          ]
        }
      ]
    },
    {
      "cell_type": "code",
      "source": [
        "import torch\n",
        "import torch.nn as nn\n",
        "from torch.nn import functional as F\n",
        "torch.manual_seed(1337)\n",
        "\n",
        "class BigramLanguageModel(nn.Module):\n",
        "  def __init__(self,vocab_size):\n",
        "    super().__init__()\n",
        "    self.token_embedding_table = nn.Embedding(vocab_size,vocab_size)\n",
        "\n",
        "\n",
        "  def forward(self, idx, targets = None):\n",
        "\n",
        "    logits = self.token_embedding_table(idx)\n",
        "\n",
        "    if targets is None:\n",
        "      loss = None\n",
        "    else:\n",
        "      B,T,C = logits.shape\n",
        "      logits = logits.view(B*T,C)\n",
        "      targets = targets.view(B*T)\n",
        "      loss = F.cross_entropy(logits,targets)\n",
        "\n",
        "\n",
        "    return logits, loss\n",
        "\n",
        "\n",
        "  def generate(self, idx, max_new_tokens):\n",
        "    for _ in range(max_new_tokens):\n",
        "      logits, loss = self(idx)\n",
        "      logits = logits[:,-1,:]\n",
        "      probs = F.softmax(logits, dim = -1)\n",
        "      idx_next = torch.multinomial(probs, num_samples = 1)\n",
        "      idx = torch.cat((idx,idx_next), dim = 1)\n",
        "\n",
        "    return idx\n",
        "\n",
        "\n",
        "m = BigramLanguageModel(vocab_size)\n",
        "logits,loss = m(xb,yb)\n",
        "print(logits.shape)\n",
        "print(loss)\n",
        "\n",
        "idx = torch.zeros((1,1), dtype = torch.long)\n",
        "print(decode(m.generate(idx,max_new_tokens=100)[0].tolist()))"
      ],
      "metadata": {
        "colab": {
          "base_uri": "https://localhost:8080/"
        },
        "id": "UbVE8RM3d1Z8",
        "outputId": "11297a3c-4d47-4b45-c737-61794707dddf"
      },
      "execution_count": 15,
      "outputs": [
        {
          "output_type": "stream",
          "name": "stdout",
          "text": [
            "torch.Size([32, 65])\n",
            "tensor(4.9670, grad_fn=<NllLossBackward0>)\n",
            "\n",
            "Sr?qP-QWktXoL&jLDJgOLVz'RIoDqHdhsV&vLLxatjscMpwLERSPyao.qfzs$Ys$zF-w,;eEkzxjgCKFChs!iWW.ObzDnxA Ms$3\n"
          ]
        }
      ]
    },
    {
      "cell_type": "code",
      "source": [
        "optimizer = torch.optim.AdamW(m.parameters(), lr=1e-3)"
      ],
      "metadata": {
        "id": "bxu5rwXYNZMh"
      },
      "execution_count": 18,
      "outputs": []
    },
    {
      "cell_type": "code",
      "source": [
        "batch_size = 32\n",
        "for steps in range(10000):\n",
        "\n",
        "  xb,yb = get_batch('train')\n",
        "\n",
        "  logits, loss = m(xb,yb)\n",
        "  optimizer.zero_grad(set_to_none = True)\n",
        "  loss.backward()\n",
        "  optimizer.step()\n",
        "\n",
        "print(loss.item())"
      ],
      "metadata": {
        "colab": {
          "base_uri": "https://localhost:8080/"
        },
        "id": "R73drd71L-F0",
        "outputId": "9a3046ef-a12d-4cef-d9fa-b9e062e0965b"
      },
      "execution_count": 31,
      "outputs": [
        {
          "output_type": "stream",
          "name": "stdout",
          "text": [
            "2.4411540031433105\n"
          ]
        }
      ]
    },
    {
      "cell_type": "code",
      "source": [
        "idx = torch.zeros((1,1), dtype = torch.long)\n",
        "print(decode(m.generate(idx,max_new_tokens=500)[0].tolist()))"
      ],
      "metadata": {
        "colab": {
          "base_uri": "https://localhost:8080/"
        },
        "id": "6ybJp_LDMHUQ",
        "outputId": "724701ba-161e-4145-8d94-0a1e4a3ad3a3"
      },
      "execution_count": 32,
      "outputs": [
        {
          "output_type": "stream",
          "name": "stdout",
          "text": [
            "\n",
            "TH:\n",
            "MPUSongranewis grot ar' N wol hd!\n",
            "R:\n",
            "ARoo papousulo r CEDUTYot!\n",
            "CIUTy he\n",
            "ADEneyonqur\n",
            "MABut PORGLICEThay, pers?\n",
            "t bance m fof we'sthe head mowak S:\n",
            "We ntil hily bey be ss awof o lains ooveserowa\n",
            "Wanthe;\n",
            "\n",
            "QUMagraim y tod f ir aru ses ban lou sllto le hen rinulindenk\n",
            "\n",
            "I in w! d e hag encat f hishes\n",
            "Y aclivild\n",
            "\n",
            "\n",
            "Kir'l ckind\n",
            "Can d Awindu, hime, BEDUCI's,\n",
            "I 'shin.\n",
            "Ifothor?\n",
            "l as, ier,\n",
            "Torenthanot t d ped t alap.\n",
            "\n",
            "Nouthawir\n",
            "WIUChe ty'sther? wo cais domone a has ttherike y p urse sondeoun,\n",
            "'Te by d I\n"
          ]
        }
      ]
    },
    {
      "cell_type": "markdown",
      "source": [
        "Mathematical Trick in self attention"
      ],
      "metadata": {
        "id": "hGi79tVyeLZE"
      }
    },
    {
      "cell_type": "code",
      "source": [
        "torch.manual_seed(1337)\n",
        "B,T,C = 4,8,2 # batch, time, channels\n",
        "x = torch.randn(B,T,C)\n",
        "x.shape"
      ],
      "metadata": {
        "colab": {
          "base_uri": "https://localhost:8080/"
        },
        "id": "R_uZi_5GN57k",
        "outputId": "fb85131e-62bc-45f3-aacc-c11a02270d54"
      },
      "execution_count": 33,
      "outputs": [
        {
          "output_type": "execute_result",
          "data": {
            "text/plain": [
              "torch.Size([4, 8, 2])"
            ]
          },
          "metadata": {},
          "execution_count": 33
        }
      ]
    },
    {
      "cell_type": "code",
      "source": [
        "# We want x[b,t] = mean_{i<=t} x[b,i]\n",
        "xbow = torch.zeros((B,T,C))\n",
        "for b in range(B):\n",
        "    for t in range(T):\n",
        "        xprev = x[b,:t+1] # (t,C)\n",
        "        xbow[b,t] = torch.mean(xprev, 0)"
      ],
      "metadata": {
        "id": "5yjUcUWoeZnd"
      },
      "execution_count": 37,
      "outputs": []
    },
    {
      "cell_type": "code",
      "source": [
        "# version 2: using matrix multiply for a weighted aggregation\n",
        "wei = torch.tril(torch.ones(T, T))\n",
        "wei = wei / wei.sum(1, keepdim=True)\n",
        "xbow2 = wei @ x # (B, T, T) @ (B, T, C) ----> (B, T, C)\n",
        "torch.allclose(xbow, xbow2)"
      ],
      "metadata": {
        "colab": {
          "base_uri": "https://localhost:8080/"
        },
        "id": "4pA1ZYoWecTp",
        "outputId": "292983f8-219a-4b23-a6b1-980201afe32d"
      },
      "execution_count": 38,
      "outputs": [
        {
          "output_type": "execute_result",
          "data": {
            "text/plain": [
              "False"
            ]
          },
          "metadata": {},
          "execution_count": 38
        }
      ]
    },
    {
      "cell_type": "code",
      "source": [
        "# version 3: use Softmax\n",
        "tril = torch.tril(torch.ones(T, T))\n",
        "wei = torch.zeros((T,T))\n",
        "wei = wei.masked_fill(tril == 0, float('-inf'))\n",
        "wei = F.softmax(wei, dim=-1)\n",
        "xbow3 = wei @ x\n",
        "torch.allclose(xbow, xbow3)\n"
      ],
      "metadata": {
        "colab": {
          "base_uri": "https://localhost:8080/"
        },
        "id": "10q_QjEoeh4G",
        "outputId": "e7a92c72-2ebb-4ba2-e98d-ef1e8bc96538"
      },
      "execution_count": 39,
      "outputs": [
        {
          "output_type": "execute_result",
          "data": {
            "text/plain": [
              "False"
            ]
          },
          "metadata": {},
          "execution_count": 39
        }
      ]
    },
    {
      "cell_type": "code",
      "source": [
        "## version 4: self attention\n",
        "torch.manual_seed(1337)\n",
        "B,T,C =  4,8,32\n",
        "\n",
        "x = torch.randn(B,T,C)\n",
        "\n",
        "head_size = 16\n",
        "key = nn.Linear(C,head_size, bias = False)\n",
        "query = nn.Linear(C, head_size, bias = False)\n",
        "value = nn.Linear(C, head_size, bias = False)\n",
        "k = key(x)\n",
        "q = query(x)\n",
        "wei = q@k.transpose(-2,-1)\n",
        "\n",
        "tril = torch.tril(torch.ones(T,T))\n",
        "# wei = torch.zeros((T,T))\n",
        "wei = wei.masked_fill(tril == 0, float('-inf'))\n",
        "wei = F.softmax(wei, dim = -1)\n",
        "v = value(x)\n",
        "out = wei @ v\n",
        "\n",
        "out.shape\n"
      ],
      "metadata": {
        "colab": {
          "base_uri": "https://localhost:8080/"
        },
        "id": "iCJPkkmTfMtv",
        "outputId": "ed3d14cc-70b5-4704-966c-eb7b8151e330"
      },
      "execution_count": 43,
      "outputs": [
        {
          "output_type": "execute_result",
          "data": {
            "text/plain": [
              "torch.Size([4, 8, 16])"
            ]
          },
          "metadata": {},
          "execution_count": 43
        }
      ]
    },
    {
      "cell_type": "code",
      "source": [
        "wei[0]"
      ],
      "metadata": {
        "colab": {
          "base_uri": "https://localhost:8080/"
        },
        "id": "HSRZxd6_jd2Z",
        "outputId": "78fcc4d3-f556-4586-bf7e-c0bef04454b3"
      },
      "execution_count": 42,
      "outputs": [
        {
          "output_type": "execute_result",
          "data": {
            "text/plain": [
              "tensor([[1.0000, 0.0000, 0.0000, 0.0000, 0.0000, 0.0000, 0.0000, 0.0000],\n",
              "        [0.1574, 0.8426, 0.0000, 0.0000, 0.0000, 0.0000, 0.0000, 0.0000],\n",
              "        [0.2088, 0.1646, 0.6266, 0.0000, 0.0000, 0.0000, 0.0000, 0.0000],\n",
              "        [0.5792, 0.1187, 0.1889, 0.1131, 0.0000, 0.0000, 0.0000, 0.0000],\n",
              "        [0.0294, 0.1052, 0.0469, 0.0276, 0.7909, 0.0000, 0.0000, 0.0000],\n",
              "        [0.0176, 0.2689, 0.0215, 0.0089, 0.6812, 0.0019, 0.0000, 0.0000],\n",
              "        [0.1691, 0.4066, 0.0438, 0.0416, 0.1048, 0.2012, 0.0329, 0.0000],\n",
              "        [0.0210, 0.0843, 0.0555, 0.2297, 0.0573, 0.0709, 0.2423, 0.2391]],\n",
              "       grad_fn=<SelectBackward0>)"
            ]
          },
          "metadata": {},
          "execution_count": 42
        }
      ]
    },
    {
      "cell_type": "code",
      "source": [
        ""
      ],
      "metadata": {
        "id": "jQJSlEejo3Ic"
      },
      "execution_count": null,
      "outputs": []
    }
  ]
}